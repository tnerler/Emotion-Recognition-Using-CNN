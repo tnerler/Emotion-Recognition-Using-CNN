{
 "cells": [
  {
   "cell_type": "markdown",
   "metadata": {},
   "source": [
    "### Importing the DataSet\n",
    "- I am going to use FER-2013 Dataset."
   ]
  },
  {
   "cell_type": "code",
   "execution_count": null,
   "metadata": {},
   "outputs": [],
   "source": [
    "import os  \n",
    "import numpy as np  \n",
    "import pandas as pd  \n",
    "from keras.preprocessing.image import ImageDataGenerator  \n",
    "import tensorflow as tf  \n",
    "from keras.layers import Conv2D, MaxPooling2D, Flatten, Dense, Dropout, BatchNormalization  \n",
    "import keras  \n",
    "\n",
    "# Set pandas options to display all rows and columns  \n",
    "pd.set_option('display.max_rows', None)  \n",
    "pd.set_option(\"display.max_columns\", None)  \n"
   ]
  },
  {
   "cell_type": "code",
   "execution_count": null,
   "metadata": {},
   "outputs": [],
   "source": [
    "SEED = 42\n",
    "np.random.seed(SEED)\n",
    "# Set the random seed for reproducibility  "
   ]
  },
  {
   "cell_type": "code",
   "execution_count": null,
   "metadata": {},
   "outputs": [],
   "source": [
    "def image_data_generator(train_path, test_path):  \n",
    "    # Define an ImageDataGenerator for training with data augmentation  \n",
    "    for_train = ImageDataGenerator(  \n",
    "        rescale=1./255,  # Normalize pixel values to [0,1]  \n",
    "        horizontal_flip=True,  # Randomly flip images horizontally  \n",
    "        height_shift_range=0.1,  # Shift image height by 10%  \n",
    "        width_shift_range=0.1,  # Shift image width by 10%  \n",
    "        brightness_range=(0.5,1.5),  # Adjust brightness randomly  \n",
    "        zoom_range=[1, 1.5],  # Apply random zoom  \n",
    "    )  \n",
    "\n",
    "    # Define an ImageDataGenerator for testing (only rescaling)  \n",
    "    for_test = ImageDataGenerator(  \n",
    "        rescale=1./255  # Normalize pixel values to [0,1]  \n",
    "    )  \n",
    "\n",
    "    # Load and preprocess training images  \n",
    "    train_ds = for_train.flow_from_directory(  \n",
    "        directory=train_path,  # Path to training data  \n",
    "        target_size=(48, 48),  # Resize images to 48x48  \n",
    "        color_mode='grayscale',  # Convert images to grayscale  \n",
    "        class_mode='categorical',  # Use categorical labels (one-hot encoding)  \n",
    "        batch_size=32,  # Number of images per batch  \n",
    "        shuffle=True,  # Shuffle data for training  \n",
    "        seed=SEED,  # Set seed for reproducibility  \n",
    "    )  \n",
    "\n",
    "    # Load and preprocess testing images  \n",
    "    test_ds = for_test.flow_from_directory(  \n",
    "        directory=test_path,  # Path to testing data  \n",
    "        target_size=(48, 48),  # Resize images to 48x48  \n",
    "        color_mode='grayscale',  # Convert images to grayscale  \n",
    "        class_mode='categorical',  # Use categorical labels (one-hot encoding)  \n",
    "        batch_size=32,  # Number of images per batch  \n",
    "        shuffle=False,  # Do not shuffle test data  \n",
    "        seed=SEED  # Set seed for reproducibility  \n",
    "    )  \n",
    "\n",
    "    return train_ds, test_ds  # Return the prepared datasets  \n"
   ]
  },
  {
   "cell_type": "code",
   "execution_count": 53,
   "metadata": {},
   "outputs": [],
   "source": [
    "# We prepared our training and the test data. So we are ready to build our own model.\n",
    "\n",
    "# Preparing : \n",
    "# 1-) The input shape of the model must be (32, 48, 48, 1) since our image data is like that.\n",
    "# 2-) The output layer must be the size of 7.\n",
    "# 3-) Since the input shape of the model is (32, 48, 48, 1) we need to convert the images or frames into this shape before feeding it to our model."
   ]
  },
  {
   "cell_type": "markdown",
   "metadata": {},
   "source": [
    "### Create the Model"
   ]
  },
  {
   "cell_type": "code",
   "execution_count": null,
   "metadata": {},
   "outputs": [],
   "source": [
    "from keras.models import Sequential\n",
    "from keras.layers import Conv2D, MaxPooling2D, BatchNormalization, Flatten, Dense, Dropout\n",
    "\n",
    "\n",
    "def cnnModel()  : \n",
    "    # Sequential Model\n",
    "    model = Sequential()\n",
    "\n",
    "    # Add Convolutional layers with Batch Normalization and Pooling\n",
    "    model.add(Conv2D(16, (3, 3), activation='relu', padding='same', input_shape=(48, 48, 1)))\n",
    "    model.add(BatchNormalization())\n",
    "    model.add(MaxPooling2D(pool_size=(2, 2)))\n",
    "\n",
    "    model.add(Conv2D(32, (3, 3), activation='relu', padding='same'))\n",
    "    model.add(BatchNormalization())\n",
    "    model.add(MaxPooling2D(pool_size=(2, 2)))\n",
    "\n",
    "    model.add(Conv2D(32, (3, 3), activation='relu', padding='same'))\n",
    "    model.add(BatchNormalization())\n",
    "    # model.add(MaxPooling2D(pool_size=(2, 2)))\n",
    "\n",
    "    model.add(Conv2D(64, (3, 3), activation='relu', padding='same'))\n",
    "    model.add(BatchNormalization())\n",
    "    model.add(MaxPooling2D(pool_size=(2, 2)))\n",
    "\n",
    "    model.add(Conv2D(64, (3, 3), activation='relu', padding='same'))\n",
    "    model.add(BatchNormalization())\n",
    "    # model.add(MaxPooling2D(pool_size=(2, 2)))\n",
    "\n",
    "    model.add(Conv2D(64, (3, 3), activation='relu', padding='same'))\n",
    "    model.add(BatchNormalization())\n",
    "    model.add(MaxPooling2D(pool_size=(2, 2)))\n",
    "\n",
    "    model.add(Conv2D(128, (3, 3), activation='relu', padding='same'))\n",
    "    model.add(BatchNormalization())\n",
    "    model.add(MaxPooling2D(pool_size=(2, 2)))\n",
    "\n",
    "    # Flatten and fully connected layers\n",
    "    model.add(Flatten())\n",
    "    model.add(Dense(256, activation='relu'))\n",
    "    model.add(Dropout(0.3))\n",
    "\n",
    "    model.add(Dense(512, activation='relu'))\n",
    "    model.add(Dropout(0.3))\n",
    "\n",
    "    # Output layer\n",
    "    model.add(Dense(7, activation='softmax'))  # 7 classes, adjust as necessary\n",
    "\n",
    "    return model\n",
    "\n",
    "\n",
    "# I did extract some of the pooling layers because of the input shape  \n",
    "# to preserve more spatial features and prevent excessive downsampling,  \n",
    "# which could lead to loss of important details for emotion recognition.\n"
   ]
  },
  {
   "cell_type": "markdown",
   "metadata": {},
   "source": [
    "### Build the Model"
   ]
  },
  {
   "cell_type": "code",
   "execution_count": 92,
   "metadata": {},
   "outputs": [
    {
     "name": "stdout",
     "output_type": "stream",
     "text": [
      "Model: \"sequential_5\"\n",
      "_________________________________________________________________\n",
      " Layer (type)                Output Shape              Param #   \n",
      "=================================================================\n",
      " conv2d_50 (Conv2D)          (None, 48, 48, 16)        160       \n",
      "                                                                 \n",
      " batch_normalization_48 (Bat  (None, 48, 48, 16)       64        \n",
      " chNormalization)                                                \n",
      "                                                                 \n",
      " max_pooling2d_32 (MaxPoolin  (None, 24, 24, 16)       0         \n",
      " g2D)                                                            \n",
      "                                                                 \n",
      " conv2d_51 (Conv2D)          (None, 24, 24, 32)        4640      \n",
      "                                                                 \n",
      " batch_normalization_49 (Bat  (None, 24, 24, 32)       128       \n",
      " chNormalization)                                                \n",
      "                                                                 \n",
      " max_pooling2d_33 (MaxPoolin  (None, 12, 12, 32)       0         \n",
      " g2D)                                                            \n",
      "                                                                 \n",
      " conv2d_52 (Conv2D)          (None, 12, 12, 32)        9248      \n",
      "                                                                 \n",
      " batch_normalization_50 (Bat  (None, 12, 12, 32)       128       \n",
      " chNormalization)                                                \n",
      "                                                                 \n",
      " conv2d_53 (Conv2D)          (None, 12, 12, 64)        18496     \n",
      "                                                                 \n",
      " batch_normalization_51 (Bat  (None, 12, 12, 64)       256       \n",
      " chNormalization)                                                \n",
      "                                                                 \n",
      " max_pooling2d_34 (MaxPoolin  (None, 6, 6, 64)         0         \n",
      " g2D)                                                            \n",
      "                                                                 \n",
      " conv2d_54 (Conv2D)          (None, 6, 6, 64)          36928     \n",
      "                                                                 \n",
      " batch_normalization_52 (Bat  (None, 6, 6, 64)         256       \n",
      " chNormalization)                                                \n",
      "                                                                 \n",
      " conv2d_55 (Conv2D)          (None, 6, 6, 64)          36928     \n",
      "                                                                 \n",
      " batch_normalization_53 (Bat  (None, 6, 6, 64)         256       \n",
      " chNormalization)                                                \n",
      "                                                                 \n",
      " max_pooling2d_35 (MaxPoolin  (None, 3, 3, 64)         0         \n",
      " g2D)                                                            \n",
      "                                                                 \n",
      " conv2d_56 (Conv2D)          (None, 3, 3, 128)         73856     \n",
      "                                                                 \n",
      " batch_normalization_54 (Bat  (None, 3, 3, 128)        512       \n",
      " chNormalization)                                                \n",
      "                                                                 \n",
      " max_pooling2d_36 (MaxPoolin  (None, 1, 1, 128)        0         \n",
      " g2D)                                                            \n",
      "                                                                 \n",
      " flatten_13 (Flatten)        (None, 128)               0         \n",
      "                                                                 \n",
      " dense_39 (Dense)            (None, 256)               33024     \n",
      "                                                                 \n",
      " dropout_17 (Dropout)        (None, 256)               0         \n",
      "                                                                 \n",
      " dense_40 (Dense)            (None, 512)               131584    \n",
      "                                                                 \n",
      " dropout_18 (Dropout)        (None, 512)               0         \n",
      "                                                                 \n",
      " dense_41 (Dense)            (None, 7)                 3591      \n",
      "                                                                 \n",
      "=================================================================\n",
      "Total params: 350,055\n",
      "Trainable params: 349,255\n",
      "Non-trainable params: 800\n",
      "_________________________________________________________________\n"
     ]
    }
   ],
   "source": [
    "model = cnnModel()\n",
    "\n",
    "model.summary()"
   ]
  },
  {
   "cell_type": "code",
   "execution_count": 29,
   "metadata": {},
   "outputs": [
    {
     "name": "stdout",
     "output_type": "stream",
     "text": [
      "Found 28672 images belonging to 7 classes.\n",
      "Found 8067 images belonging to 7 classes.\n"
     ]
    }
   ],
   "source": [
    "# Preparing the datasets.\n",
    "\n",
    "train_path = \"C:/Users/tuana/My Projects/Emotion Recognition Using CNN/Emotions/train\"\n",
    "test_path = \"C:/Users/tuana/My Projects/Emotion Recognition Using CNN/Emotions/test\"\n",
    "\n",
    "train_ds, test_ds = image_data_generator(train_path, test_path)"
   ]
  },
  {
   "cell_type": "code",
   "execution_count": null,
   "metadata": {},
   "outputs": [
    {
     "data": {
      "text/plain": [
       "{0: 1.0348660939868621,\n",
       " 1: 9.394495412844037,\n",
       " 2: 0.9997559189650964,\n",
       " 3: 0.5677061677061677,\n",
       " 4: 0.8249748237663646,\n",
       " 5: 0.8480331262939959,\n",
       " 6: 1.2917060864080732}"
      ]
     },
     "execution_count": 37,
     "metadata": {},
     "output_type": "execute_result"
    }
   ],
   "source": [
    "# We need to create a class weight dictionary since our datasets are imbalanced for some classes.\n",
    "\n",
    "all_images = 28672\n",
    "\n",
    "class_weights = {\n",
    "    0 : all_images / (3958 * 7), # for angry\n",
    "    1 : all_images / (436 * 7), # for disgusted\n",
    "    2 : all_images / (4097 * 7), # for fearful\n",
    "    3 : all_images / (7215 * 7), # for happy\n",
    "    4 : all_images / (4965 * 7), # for neutral\n",
    "    5 : all_images / (4830 * 7), # for sad\n",
    "    6 : all_images / (3171 * 7), # for surprised\n",
    "}\n",
    "class_weights"
   ]
  },
  {
   "cell_type": "markdown",
   "metadata": {},
   "source": [
    "### Compile the model "
   ]
  },
  {
   "cell_type": "code",
   "execution_count": 93,
   "metadata": {},
   "outputs": [],
   "source": [
    "import keras.losses\n",
    "import keras.metrics\n",
    "import keras.optimizers\n",
    "\n",
    "\n",
    "model.compile(optimizer=keras.optimizers.Adam(), loss=keras.losses.CategoricalCrossentropy(), metrics=['accuracy'])\n",
    "\n",
    "# CallBacks\n",
    "from keras.callbacks import ModelCheckpoint, EarlyStopping, ReduceLROnPlateau, TensorBoard, CSVLogger\n",
    "\n",
    "callbacks = [\n",
    "    # ModelCheckpoint: Save the best model\n",
    "    ModelCheckpoint(\n",
    "        \"myModel_2.h5\",               # Path to save the model\n",
    "        monitor='val_loss',            # The metric to monitor\n",
    "        save_best_only=True,           # Save only the best model\n",
    "        mode='min',                    # 'min' mode for loss (lower is better)\n",
    "        verbose=1\n",
    "    ),\n",
    "    \n",
    "    # EarlyStopping: Stop training if validation loss does not improve\n",
    "    EarlyStopping(\n",
    "        monitor='val_loss',            # The metric to monitor\n",
    "        patience=5,                    # Number of epochs with no improvement before stopping\n",
    "        mode='min',                    # 'min' mode for loss (lower is better)\n",
    "        verbose=1\n",
    "    ),\n",
    "    \n",
    "    # ReduceLROnPlateau: Reduce learning rate if validation loss does not improve\n",
    "    ReduceLROnPlateau(\n",
    "        monitor='val_loss',            # The metric to monitor\n",
    "        factor=0.2,                    # Reduce learning rate by 20%\n",
    "        patience=3,                    # Number of epochs to wait before reducing the learning rate\n",
    "        min_lr=1e-6,                   # Minimum learning rate\n",
    "        verbose=1\n",
    "    ),\n",
    "    \n",
    "    # TensorBoard: Visualize the training process\n",
    "    TensorBoard(\n",
    "        log_dir='./logs',              # Directory to save the logs\n",
    "        histogram_freq=1,              # Frequency to save histograms\n",
    "        write_graph=True,              # Write the graph to TensorBoard logs\n",
    "        write_images=True,             # Write model weights as images\n",
    "        update_freq='epoch'   )  ,      # Log once every epoch\n",
    "    \n",
    "    # CSVLogger: Log training metrics into a CSV file\n",
    "    CSVLogger(\n",
    "        'training_log.csv',            # Path to the CSV file\n",
    "        separator=',',                 # Separator for CSV\n",
    "        append=False                   # Create a new file for each training run\n",
    "    )\n",
    "]"
   ]
  },
  {
   "cell_type": "markdown",
   "metadata": {},
   "source": [
    "### Fitting the Model"
   ]
  },
  {
   "cell_type": "code",
   "execution_count": 94,
   "metadata": {},
   "outputs": [
    {
     "name": "stdout",
     "output_type": "stream",
     "text": [
      "Epoch 1/20\n",
      "896/896 [==============================] - ETA: 0s - loss: 1.9692 - accuracy: 0.1586\n",
      "Epoch 1: val_loss improved from inf to 1.94801, saving model to myModel_2.h5\n",
      "896/896 [==============================] - 278s 308ms/step - loss: 1.9692 - accuracy: 0.1586 - val_loss: 1.9480 - val_accuracy: 0.1307 - lr: 0.0010\n",
      "Epoch 2/20\n",
      "895/896 [============================>.] - ETA: 0s - loss: 1.8562 - accuracy: 0.2020\n",
      "Epoch 2: val_loss improved from 1.94801 to 1.89339, saving model to myModel_2.h5\n",
      "896/896 [==============================] - 33s 37ms/step - loss: 1.8557 - accuracy: 0.2021 - val_loss: 1.8934 - val_accuracy: 0.1873 - lr: 0.0010\n",
      "Epoch 3/20\n",
      "895/896 [============================>.] - ETA: 0s - loss: 1.7789 - accuracy: 0.2508\n",
      "Epoch 3: val_loss improved from 1.89339 to 1.74361, saving model to myModel_2.h5\n",
      "896/896 [==============================] - 33s 36ms/step - loss: 1.7789 - accuracy: 0.2507 - val_loss: 1.7436 - val_accuracy: 0.2691 - lr: 0.0010\n",
      "Epoch 4/20\n",
      "895/896 [============================>.] - ETA: 0s - loss: 1.6942 - accuracy: 0.3129\n",
      "Epoch 4: val_loss did not improve from 1.74361\n",
      "896/896 [==============================] - 33s 37ms/step - loss: 1.6939 - accuracy: 0.3128 - val_loss: 1.8507 - val_accuracy: 0.2414 - lr: 0.0010\n",
      "Epoch 5/20\n",
      "895/896 [============================>.] - ETA: 0s - loss: 1.6111 - accuracy: 0.3712\n",
      "Epoch 5: val_loss improved from 1.74361 to 1.60193, saving model to myModel_2.h5\n",
      "896/896 [==============================] - 32s 36ms/step - loss: 1.6109 - accuracy: 0.3712 - val_loss: 1.6019 - val_accuracy: 0.3508 - lr: 0.0010\n",
      "Epoch 6/20\n",
      "895/896 [============================>.] - ETA: 0s - loss: 1.5518 - accuracy: 0.3946\n",
      "Epoch 6: val_loss did not improve from 1.60193\n",
      "896/896 [==============================] - 33s 37ms/step - loss: 1.5521 - accuracy: 0.3946 - val_loss: 1.6415 - val_accuracy: 0.3729 - lr: 0.0010\n",
      "Epoch 7/20\n",
      "896/896 [==============================] - ETA: 0s - loss: 1.5200 - accuracy: 0.4120\n",
      "Epoch 7: val_loss improved from 1.60193 to 1.59328, saving model to myModel_2.h5\n",
      "896/896 [==============================] - 34s 38ms/step - loss: 1.5200 - accuracy: 0.4120 - val_loss: 1.5933 - val_accuracy: 0.3803 - lr: 0.0010\n",
      "Epoch 8/20\n",
      "895/896 [============================>.] - ETA: 0s - loss: 1.4729 - accuracy: 0.4249\n",
      "Epoch 8: val_loss improved from 1.59328 to 1.46945, saving model to myModel_2.h5\n",
      "896/896 [==============================] - 34s 38ms/step - loss: 1.4733 - accuracy: 0.4248 - val_loss: 1.4694 - val_accuracy: 0.4295 - lr: 0.0010\n",
      "Epoch 9/20\n",
      "896/896 [==============================] - ETA: 0s - loss: 1.4528 - accuracy: 0.4344\n",
      "Epoch 9: val_loss did not improve from 1.46945\n",
      "896/896 [==============================] - 33s 37ms/step - loss: 1.4528 - accuracy: 0.4344 - val_loss: 1.4848 - val_accuracy: 0.4013 - lr: 0.0010\n",
      "Epoch 10/20\n",
      "895/896 [============================>.] - ETA: 0s - loss: 1.4299 - accuracy: 0.4449\n",
      "Epoch 10: val_loss improved from 1.46945 to 1.46041, saving model to myModel_2.h5\n",
      "896/896 [==============================] - 33s 36ms/step - loss: 1.4299 - accuracy: 0.4448 - val_loss: 1.4604 - val_accuracy: 0.4046 - lr: 0.0010\n",
      "Epoch 11/20\n",
      "895/896 [============================>.] - ETA: 0s - loss: 1.3991 - accuracy: 0.4591\n",
      "Epoch 11: val_loss did not improve from 1.46041\n",
      "896/896 [==============================] - 37s 41ms/step - loss: 1.3989 - accuracy: 0.4591 - val_loss: 1.4799 - val_accuracy: 0.4213 - lr: 0.0010\n",
      "Epoch 12/20\n",
      "895/896 [============================>.] - ETA: 0s - loss: 1.3730 - accuracy: 0.4609\n",
      "Epoch 12: val_loss improved from 1.46041 to 1.42137, saving model to myModel_2.h5\n",
      "896/896 [==============================] - 30s 34ms/step - loss: 1.3728 - accuracy: 0.4608 - val_loss: 1.4214 - val_accuracy: 0.4350 - lr: 0.0010\n",
      "Epoch 13/20\n",
      "896/896 [==============================] - ETA: 0s - loss: 1.3643 - accuracy: 0.4716\n",
      "Epoch 13: val_loss improved from 1.42137 to 1.38268, saving model to myModel_2.h5\n",
      "896/896 [==============================] - 32s 36ms/step - loss: 1.3643 - accuracy: 0.4716 - val_loss: 1.3827 - val_accuracy: 0.4482 - lr: 0.0010\n",
      "Epoch 14/20\n",
      "895/896 [============================>.] - ETA: 0s - loss: 1.3477 - accuracy: 0.4756\n",
      "Epoch 14: val_loss improved from 1.38268 to 1.35649, saving model to myModel_2.h5\n",
      "896/896 [==============================] - 31s 35ms/step - loss: 1.3477 - accuracy: 0.4754 - val_loss: 1.3565 - val_accuracy: 0.4806 - lr: 0.0010\n",
      "Epoch 15/20\n",
      "896/896 [==============================] - ETA: 0s - loss: 1.3260 - accuracy: 0.4839\n",
      "Epoch 15: val_loss did not improve from 1.35649\n",
      "896/896 [==============================] - 33s 37ms/step - loss: 1.3260 - accuracy: 0.4839 - val_loss: 1.3756 - val_accuracy: 0.4544 - lr: 0.0010\n",
      "Epoch 16/20\n",
      "895/896 [============================>.] - ETA: 0s - loss: 1.3178 - accuracy: 0.4831\n",
      "Epoch 16: val_loss did not improve from 1.35649\n",
      "896/896 [==============================] - 32s 35ms/step - loss: 1.3175 - accuracy: 0.4832 - val_loss: 1.4189 - val_accuracy: 0.4414 - lr: 0.0010\n",
      "Epoch 17/20\n",
      "895/896 [============================>.] - ETA: 0s - loss: 1.2994 - accuracy: 0.4903\n",
      "Epoch 17: val_loss improved from 1.35649 to 1.26456, saving model to myModel_2.h5\n",
      "896/896 [==============================] - 32s 36ms/step - loss: 1.2994 - accuracy: 0.4903 - val_loss: 1.2646 - val_accuracy: 0.5151 - lr: 0.0010\n",
      "Epoch 18/20\n",
      "896/896 [==============================] - ETA: 0s - loss: 1.2859 - accuracy: 0.4983\n",
      "Epoch 18: val_loss did not improve from 1.26456\n",
      "896/896 [==============================] - 32s 35ms/step - loss: 1.2859 - accuracy: 0.4983 - val_loss: 1.4124 - val_accuracy: 0.4507 - lr: 0.0010\n",
      "Epoch 19/20\n",
      "895/896 [============================>.] - ETA: 0s - loss: 1.2782 - accuracy: 0.5016\n",
      "Epoch 19: val_loss did not improve from 1.26456\n",
      "896/896 [==============================] - 31s 35ms/step - loss: 1.2782 - accuracy: 0.5015 - val_loss: 1.4028 - val_accuracy: 0.4474 - lr: 0.0010\n",
      "Epoch 20/20\n",
      "895/896 [============================>.] - ETA: 0s - loss: 1.2689 - accuracy: 0.5056\n",
      "Epoch 20: val_loss did not improve from 1.26456\n",
      "\n",
      "Epoch 20: ReduceLROnPlateau reducing learning rate to 0.00020000000949949026.\n",
      "896/896 [==============================] - 38s 42ms/step - loss: 1.2689 - accuracy: 0.5055 - val_loss: 1.3692 - val_accuracy: 0.4590 - lr: 0.0010\n"
     ]
    }
   ],
   "source": [
    "history = model.fit(train_ds, epochs = 20, callbacks = callbacks, validation_data=test_ds, class_weight=class_weights)"
   ]
  },
  {
   "cell_type": "code",
   "execution_count": null,
   "metadata": {},
   "outputs": [
    {
     "name": "stdout",
     "output_type": "stream",
     "text": [
      "Epoch 1/25\n",
      "896/896 [==============================] - ETA: 0s - loss: 1.3132 - accuracy: 0.4913\n",
      "Epoch 1: val_loss did not improve from 1.26456\n",
      "896/896 [==============================] - 35s 38ms/step - loss: 1.3132 - accuracy: 0.4913 - val_loss: 1.3565 - val_accuracy: 0.4831 - lr: 0.0010\n",
      "Epoch 2/25\n",
      "895/896 [============================>.] - ETA: 0s - loss: 1.2896 - accuracy: 0.4997\n",
      "Epoch 2: val_loss did not improve from 1.26456\n",
      "896/896 [==============================] - 32s 36ms/step - loss: 1.2894 - accuracy: 0.4997 - val_loss: 1.3135 - val_accuracy: 0.4901 - lr: 0.0010\n",
      "Epoch 3/25\n",
      "896/896 [==============================] - ETA: 0s - loss: 1.2714 - accuracy: 0.4978\n",
      "Epoch 3: val_loss did not improve from 1.26456\n",
      "896/896 [==============================] - 33s 36ms/step - loss: 1.2714 - accuracy: 0.4978 - val_loss: 1.3318 - val_accuracy: 0.4893 - lr: 0.0010\n",
      "Epoch 4/25\n",
      "896/896 [==============================] - ETA: 0s - loss: 1.2490 - accuracy: 0.5087\n",
      "Epoch 4: val_loss did not improve from 1.26456\n",
      "896/896 [==============================] - 30s 33ms/step - loss: 1.2490 - accuracy: 0.5087 - val_loss: 1.4187 - val_accuracy: 0.4459 - lr: 0.0010\n",
      "Epoch 5/25\n",
      "896/896 [==============================] - ETA: 0s - loss: 1.2453 - accuracy: 0.5100\n",
      "Epoch 5: val_loss did not improve from 1.26456\n",
      "\n",
      "Epoch 5: ReduceLROnPlateau reducing learning rate to 0.00020000000949949026.\n",
      "896/896 [==============================] - 30s 33ms/step - loss: 1.2453 - accuracy: 0.5100 - val_loss: 1.5081 - val_accuracy: 0.4268 - lr: 0.0010\n",
      "Epoch 6/25\n",
      "896/896 [==============================] - ETA: 0s - loss: 1.1691 - accuracy: 0.5357\n",
      "Epoch 6: val_loss improved from 1.26456 to 1.23691, saving model to myModel_2.h5\n",
      "896/896 [==============================] - 30s 33ms/step - loss: 1.1691 - accuracy: 0.5357 - val_loss: 1.2369 - val_accuracy: 0.5223 - lr: 2.0000e-04\n",
      "Epoch 7/25\n",
      "896/896 [==============================] - ETA: 0s - loss: 1.1519 - accuracy: 0.5430\n",
      "Epoch 7: val_loss did not improve from 1.23691\n",
      "896/896 [==============================] - 30s 34ms/step - loss: 1.1519 - accuracy: 0.5430 - val_loss: 1.2731 - val_accuracy: 0.5086 - lr: 2.0000e-04\n",
      "Epoch 8/25\n",
      "896/896 [==============================] - ETA: 0s - loss: 1.1273 - accuracy: 0.5499\n",
      "Epoch 8: val_loss improved from 1.23691 to 1.23653, saving model to myModel_2.h5\n",
      "896/896 [==============================] - 30s 33ms/step - loss: 1.1273 - accuracy: 0.5499 - val_loss: 1.2365 - val_accuracy: 0.5209 - lr: 2.0000e-04\n",
      "Epoch 9/25\n",
      "895/896 [============================>.] - ETA: 0s - loss: 1.1233 - accuracy: 0.5479\n",
      "Epoch 9: val_loss improved from 1.23653 to 1.22798, saving model to myModel_2.h5\n",
      "896/896 [==============================] - 30s 34ms/step - loss: 1.1231 - accuracy: 0.5480 - val_loss: 1.2280 - val_accuracy: 0.5299 - lr: 2.0000e-04\n",
      "Epoch 10/25\n",
      "895/896 [============================>.] - ETA: 0s - loss: 1.1188 - accuracy: 0.5546\n",
      "Epoch 10: val_loss improved from 1.22798 to 1.21624, saving model to myModel_2.h5\n",
      "896/896 [==============================] - 33s 37ms/step - loss: 1.1186 - accuracy: 0.5546 - val_loss: 1.2162 - val_accuracy: 0.5333 - lr: 2.0000e-04\n",
      "Epoch 11/25\n",
      "895/896 [============================>.] - ETA: 0s - loss: 1.1149 - accuracy: 0.5517\n",
      "Epoch 11: val_loss improved from 1.21624 to 1.20037, saving model to myModel_2.h5\n",
      "896/896 [==============================] - 32s 36ms/step - loss: 1.1148 - accuracy: 0.5516 - val_loss: 1.2004 - val_accuracy: 0.5348 - lr: 2.0000e-04\n",
      "Epoch 12/25\n",
      "895/896 [============================>.] - ETA: 0s - loss: 1.1095 - accuracy: 0.5533\n",
      "Epoch 12: val_loss did not improve from 1.20037\n",
      "896/896 [==============================] - 32s 35ms/step - loss: 1.1096 - accuracy: 0.5532 - val_loss: 1.2052 - val_accuracy: 0.5345 - lr: 2.0000e-04\n",
      "Epoch 13/25\n",
      "896/896 [==============================] - ETA: 0s - loss: 1.0981 - accuracy: 0.5581\n",
      "Epoch 13: val_loss did not improve from 1.20037\n",
      "896/896 [==============================] - 33s 36ms/step - loss: 1.0981 - accuracy: 0.5581 - val_loss: 1.2172 - val_accuracy: 0.5278 - lr: 2.0000e-04\n",
      "Epoch 14/25\n",
      "896/896 [==============================] - ETA: 0s - loss: 1.0898 - accuracy: 0.5606\n",
      "Epoch 14: val_loss improved from 1.20037 to 1.17815, saving model to myModel_2.h5\n",
      "896/896 [==============================] - 33s 36ms/step - loss: 1.0898 - accuracy: 0.5606 - val_loss: 1.1782 - val_accuracy: 0.5531 - lr: 2.0000e-04\n",
      "Epoch 15/25\n",
      "895/896 [============================>.] - ETA: 0s - loss: 1.0882 - accuracy: 0.5630\n",
      "Epoch 15: val_loss did not improve from 1.17815\n",
      "896/896 [==============================] - 32s 36ms/step - loss: 1.0879 - accuracy: 0.5631 - val_loss: 1.2132 - val_accuracy: 0.5405 - lr: 2.0000e-04\n",
      "Epoch 16/25\n",
      "895/896 [============================>.] - ETA: 0s - loss: 1.0852 - accuracy: 0.5624\n",
      "Epoch 16: val_loss did not improve from 1.17815\n",
      "896/896 [==============================] - 32s 36ms/step - loss: 1.0855 - accuracy: 0.5622 - val_loss: 1.2103 - val_accuracy: 0.5365 - lr: 2.0000e-04\n",
      "Epoch 17/25\n",
      "896/896 [==============================] - ETA: 0s - loss: 1.0720 - accuracy: 0.5627\n",
      "Epoch 17: val_loss did not improve from 1.17815\n",
      "\n",
      "Epoch 17: ReduceLROnPlateau reducing learning rate to 4.0000001899898055e-05.\n",
      "896/896 [==============================] - 32s 36ms/step - loss: 1.0720 - accuracy: 0.5627 - val_loss: 1.2226 - val_accuracy: 0.5345 - lr: 2.0000e-04\n",
      "Epoch 18/25\n",
      "895/896 [============================>.] - ETA: 0s - loss: 1.0653 - accuracy: 0.5634\n",
      "Epoch 18: val_loss did not improve from 1.17815\n",
      "896/896 [==============================] - 33s 36ms/step - loss: 1.0652 - accuracy: 0.5634 - val_loss: 1.1896 - val_accuracy: 0.5473 - lr: 4.0000e-05\n",
      "Epoch 19/25\n",
      "895/896 [============================>.] - ETA: 0s - loss: 1.0577 - accuracy: 0.5690\n",
      "Epoch 19: val_loss improved from 1.17815 to 1.17617, saving model to myModel_2.h5\n",
      "896/896 [==============================] - 32s 36ms/step - loss: 1.0576 - accuracy: 0.5690 - val_loss: 1.1762 - val_accuracy: 0.5510 - lr: 4.0000e-05\n",
      "Epoch 20/25\n",
      "896/896 [==============================] - ETA: 0s - loss: 1.0629 - accuracy: 0.5694\n",
      "Epoch 20: val_loss did not improve from 1.17617\n",
      "896/896 [==============================] - 33s 37ms/step - loss: 1.0629 - accuracy: 0.5694 - val_loss: 1.1861 - val_accuracy: 0.5479 - lr: 4.0000e-05\n",
      "Epoch 21/25\n",
      "896/896 [==============================] - ETA: 0s - loss: 1.0505 - accuracy: 0.5722\n",
      "Epoch 21: val_loss did not improve from 1.17617\n",
      "896/896 [==============================] - 34s 37ms/step - loss: 1.0505 - accuracy: 0.5722 - val_loss: 1.1802 - val_accuracy: 0.5498 - lr: 4.0000e-05\n",
      "Epoch 22/25\n",
      "895/896 [============================>.] - ETA: 0s - loss: 1.0462 - accuracy: 0.5711\n",
      "Epoch 22: val_loss did not improve from 1.17617\n",
      "\n",
      "Epoch 22: ReduceLROnPlateau reducing learning rate to 8.000000525498762e-06.\n",
      "896/896 [==============================] - 33s 37ms/step - loss: 1.0460 - accuracy: 0.5711 - val_loss: 1.1838 - val_accuracy: 0.5472 - lr: 4.0000e-05\n",
      "Epoch 23/25\n",
      "896/896 [==============================] - ETA: 0s - loss: 1.0529 - accuracy: 0.5721\n",
      "Epoch 23: val_loss did not improve from 1.17617\n",
      "896/896 [==============================] - 32s 35ms/step - loss: 1.0529 - accuracy: 0.5721 - val_loss: 1.1782 - val_accuracy: 0.5495 - lr: 8.0000e-06\n",
      "Epoch 24/25\n",
      "896/896 [==============================] - ETA: 0s - loss: 1.0479 - accuracy: 0.5745\n",
      "Epoch 24: val_loss improved from 1.17617 to 1.17596, saving model to myModel_2.h5\n",
      "896/896 [==============================] - 33s 37ms/step - loss: 1.0479 - accuracy: 0.5745 - val_loss: 1.1760 - val_accuracy: 0.5509 - lr: 8.0000e-06\n",
      "Epoch 25/25\n",
      "896/896 [==============================] - ETA: 0s - loss: 1.0390 - accuracy: 0.5726\n",
      "Epoch 25: val_loss improved from 1.17596 to 1.17535, saving model to myModel_2.h5\n",
      "896/896 [==============================] - 34s 38ms/step - loss: 1.0390 - accuracy: 0.5726 - val_loss: 1.1754 - val_accuracy: 0.5510 - lr: 8.0000e-06\n"
     ]
    }
   ],
   "source": [
    "# Cleary it seems that the model didn't stop increasing its accuracy so 15 epochs wasn't enough. We need to keep training more epochs.\n",
    "from keras.models import load_model\n",
    "model = load_model(\"C:/Users/tuana/My Projects/Emotion Recognition Using CNN/myModel_2.h5\")\n",
    "history = model.fit(train_ds, epochs=25, callbacks=callbacks, validation_data=test_ds, class_weight=class_weights)"
   ]
  },
  {
   "cell_type": "code",
   "execution_count": null,
   "metadata": {},
   "outputs": [
    {
     "data": {
      "image/png": "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",
      "text/plain": [
       "<Figure size 640x480 with 1 Axes>"
      ]
     },
     "metadata": {},
     "output_type": "display_data"
    },
    {
     "data": {
      "image/png": "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",
      "text/plain": [
       "<Figure size 640x480 with 1 Axes>"
      ]
     },
     "metadata": {},
     "output_type": "display_data"
    }
   ],
   "source": [
    "import matplotlib.pyplot as plt\n",
    "\n",
    "# Loss graph\n",
    "plt.plot(history.history['loss'], label='Training Loss')\n",
    "plt.plot(history.history['val_loss'], label='Validation Loss')\n",
    "plt.xlabel('Epoch')\n",
    "plt.ylabel('Loss')\n",
    "plt.legend()\n",
    "plt.title('Training & Validation Loss')\n",
    "plt.show()\n",
    "\n",
    "# Accuracy graph\n",
    "plt.plot(history.history['accuracy'], label='Training Accuracy')\n",
    "plt.plot(history.history['val_accuracy'], label='Validation Accuracy')\n",
    "plt.xlabel('Epoch')\n",
    "plt.ylabel('Accuracy')\n",
    "plt.legend()\n",
    "plt.title('Training & Validation Accuracy')\n",
    "plt.show()\n"
   ]
  },
  {
   "cell_type": "code",
   "execution_count": 97,
   "metadata": {},
   "outputs": [
    {
     "name": "stdout",
     "output_type": "stream",
     "text": [
      "Best epoch: 25\n"
     ]
    }
   ],
   "source": [
    "import numpy as np\n",
    "\n",
    "best_epoch = np.argmin(history.history['val_loss']) + 1\n",
    "print(f\"Best epoch: {best_epoch}\")\n"
   ]
  },
  {
   "cell_type": "code",
   "execution_count": null,
   "metadata": {},
   "outputs": [
    {
     "name": "stdout",
     "output_type": "stream",
     "text": [
      "253/253 [==============================] - 3s 13ms/step - loss: 1.1754 - accuracy: 0.5510\n",
      "Test Loss: 1.1754, Test Accuracy: 0.5510\n"
     ]
    }
   ],
   "source": [
    "test_loss, test_acc = model.evaluate(test_ds)\n",
    "print(f\"Test Loss: {test_loss:.4f}, Test Accuracy: {test_acc:.4f}\")"
   ]
  },
  {
   "cell_type": "markdown",
   "metadata": {},
   "source": [
    "### Prediction"
   ]
  },
  {
   "cell_type": "code",
   "execution_count": 2,
   "metadata": {},
   "outputs": [],
   "source": [
    "from keras.models import load_model\n",
    "model = load_model(\"C:/Users/tuana/My Projects/Emotion Recognition Using CNN/myModel_2.h5\")"
   ]
  },
  {
   "cell_type": "code",
   "execution_count": 3,
   "metadata": {},
   "outputs": [],
   "source": [
    "import cv2\n",
    "import tensorflow as tf\n",
    "def input_processing(img):\n",
    "    img_resized = cv2.resize(img, (48, 48)) \n",
    "    img_converted = cv2.cvtColor(img_resized, cv2.COLOR_RGB2GRAY)\n",
    "    img_normalized = img_converted / 255.0   \n",
    "    img_tensor = tf.expand_dims(img_normalized, axis=-1)  
    "    img_tensor = tf.expand_dims(img_tensor, axis=0)  
    "    return img_tensor"
   ]
  },
  {
   "cell_type": "code",
   "execution_count": null,
   "metadata": {},
   "outputs": [
    {
     "name": "stdout",
     "output_type": "stream",
     "text": [
      "1/1 [==============================] - 0s 19ms/step\n"
     ]
    }
   ],
   "source": [
    "import cv2  \n",
    "import mediapipe as mp  \n",
    "import numpy as np  \n",
    "\n",
    "# Initialize Mediapipe Face Detection model  \n",
    "mp_face_detection = mp.solutions.face_detection  \n",
    "mp_drawing = mp.solutions.drawing_utils  \n",
    "\n",
    "# Set up the Face Detection model with a minimum detection confidence of 0.1  \n",
    "face_detection = mp_face_detection.FaceDetection(min_detection_confidence=0.1)  \n",
    "\n",
    "# Read the image (provide the image path)  \n",
    "image_path = 'C:/Users/tuana/My Projects/Emotion Recognition Using CNN/disgusted.jpg'  \n",
    "img = cv2.imread(image_path)  \n",
    "\n",
    "# List of emotion classes  \n",
    "class_names = [\"angry\", \"disgusted\", \"fearful\", \"happy\", \"neutral\",  \"sad\", \"surprised\"]  \n",
    "\n",
    "# Convert BGR image to RGB for processing  \n",
    "img_rgb = cv2.cvtColor(img, cv2.COLOR_BGR2RGB)  \n",
    "\n",
    "# Detect faces in the image  \n",
    "results = face_detection.process(img_rgb)  \n",
    "\n",
    "# If faces are detected, draw rectangles around them  \n",
    "if results.detections:  \n",
    "    for detection in results.detections:  \n",
    "        # Get the bounding box of the detected face  \n",
    "        bboxC = detection.location_data.relative_bounding_box  \n",
    "        ih, iw, _ = img.shape  \n",
    "        x, y, w, h = int(bboxC.xmin * iw), int(bboxC.ymin * ih), int(bboxC.width * iw), int(bboxC.height * ih)  \n",
    "        \n",
    "        # Draw a rectangle around the face  \n",
    "        cv2.rectangle(img, (x, y), (x + w, y + h), (0, 255, 0), 2)  \n",
    "\n",
    "        # Extract the region of the face for emotion prediction  \n",
    "        face_region = img[y:y + h, x:x + w]  # We'll predict on this region.  \n",
    "\n",
    "        # Preprocess the extracted face region for prediction (assuming input_processing is defined)  \n",
    "        preprocess = input_processing(face_region)  \n",
    "        \n",
    "        # Make emotion prediction using the model  \n",
    "        prediction = model.predict(preprocess)  \n",
    "        \n",
    "        # Get the predicted emotion  \n",
    "        emotion = class_names[np.argmax(prediction)]  \n",
    " \n",
    "        font = cv2.FONT_HERSHEY_SIMPLEX  \n",
    "        \n",
    "        # Display the predicted emotion above the face  \n",
    "        cv2.putText(img, emotion, (x, y - 10), font, 1, (0, 255, 0), 2, cv2.LINE_AA)  \n",
    "\n",
    "        # Optionally, draw points around the face (uncomment if needed)  \n",
    "        # mp_drawing.draw_detection(img, detection)  \n",
    "\n",
    "  \n",
    "\n",
    "cv2.imshow('Face Detection', img)  \n",
    "# Save the result to a file  \n",
    "cv2.imwrite(\"C:/Users/tuana/My Projects/Emotion Recognition Using CNN/disgusted_output.jpg\", img)  \n",
    " \n",
    "cv2.waitKey(0)  \n",
    "cv2.destroyAllWindows()  \n"
   ]
  }
 ],
 "metadata": {
  "kernelspec": {
   "display_name": "Python 3.10",
   "language": "python",
   "name": "python3.10"
  },
  "language_info": {
   "codemirror_mode": {
    "name": "ipython",
    "version": 3
   },
   "file_extension": ".py",
   "mimetype": "text/x-python",
   "name": "python",
   "nbconvert_exporter": "python",
   "pygments_lexer": "ipython3",
   "version": "3.10.0"
  }
 },
 "nbformat": 4,
 "nbformat_minor": 4
}
